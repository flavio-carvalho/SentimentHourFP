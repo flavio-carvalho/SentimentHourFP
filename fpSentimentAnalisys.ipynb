{
 "cells": [
  {
   "cell_type": "markdown",
   "metadata": {},
   "source": [
    "# Função instalar pacotes"
   ]
  },
  {
   "cell_type": "code",
   "execution_count": 1,
   "metadata": {},
   "outputs": [
    {
     "data": {
      "text/html": [
       "<span style=white-space:pre-wrap>'Pacote  arules  estava instalado'</span>"
      ],
      "text/latex": [
       "'Pacote  arules  estava instalado'"
      ],
      "text/markdown": [
       "<span style=white-space:pre-wrap>'Pacote  arules  estava instalado'</span>"
      ],
      "text/plain": [
       "[1] \"Pacote  arules  estava instalado\""
      ]
     },
     "metadata": {},
     "output_type": "display_data"
    },
    {
     "data": {
      "text/html": [
       "<span style=white-space:pre-wrap>'Pacote  arules  estava instalado'</span>"
      ],
      "text/latex": [
       "'Pacote  arules  estava instalado'"
      ],
      "text/markdown": [
       "<span style=white-space:pre-wrap>'Pacote  arules  estava instalado'</span>"
      ],
      "text/plain": [
       "[1] \"Pacote  arules  estava instalado\""
      ]
     },
     "metadata": {},
     "output_type": "display_data"
    },
    {
     "name": "stderr",
     "output_type": "stream",
     "text": [
      "Loading required package: Matrix\n",
      "\n",
      "Attaching package: 'arules'\n",
      "\n",
      "The following objects are masked from 'package:base':\n",
      "\n",
      "    abbreviate, write\n",
      "\n",
      "Loading required package: grid\n"
     ]
    }
   ],
   "source": [
    "#Função instalar pacotes\n",
    "InstalaPacotes = function(pck){\n",
    "  if (pck %in% rownames(installed.packages())){\n",
    "    mensagem <- paste(\"Pacote \", pck, \" estava instalado\")\n",
    "  }else{\n",
    "    mensagem <- paste(\"Instalando Pacote \", pck)\n",
    "    install.packages(pck,repos = \"http://cran.us.r-project.org\", dep=TRUE)  \n",
    "  }\n",
    "  return(mensagem)  \n",
    "}\n",
    "\n",
    "InstalaPacotes (\"arules\")\n",
    "InstalaPacotes (\"arules\")\n",
    "\n",
    "library(arules)\n",
    "library(arulesViz)"
   ]
  },
  {
   "cell_type": "markdown",
   "metadata": {
    "collapsed": true
   },
   "source": [
    "# Obtem diretório de trabalho"
   ]
  },
  {
   "cell_type": "code",
   "execution_count": 6,
   "metadata": {},
   "outputs": [],
   "source": [
    "wd<- getwd() #Inicializa wd com o diretório atual\n",
    "diretorio <- function()\n",
    "{ \n",
    "prompt <- \"Digite o diretório de trabalho: \"\n",
    "  n <- readline(prompt)\n",
    "  return(n)\n",
    "}\n",
    "\n",
    "\n"
   ]
  },
  {
   "cell_type": "code",
   "execution_count": 4,
   "metadata": {},
   "outputs": [
    {
     "name": "stdout",
     "output_type": "stream",
     "text": [
      "Digite o diretório de trabalho: \n"
     ]
    }
   ],
   "source": [
    "wd<-diretorio()"
   ]
  },
  {
   "cell_type": "code",
   "execution_count": 7,
   "metadata": {},
   "outputs": [],
   "source": [
    "setwd(wd)"
   ]
  },
  {
   "cell_type": "markdown",
   "metadata": {},
   "source": [
    "# Leitura das tabelas -> operações de redução e indexação de dados."
   ]
  },
  {
   "cell_type": "code",
   "execution_count": 8,
   "metadata": {},
   "outputs": [
    {
     "name": "stderr",
     "output_type": "stream",
     "text": [
      "Warning message in file(file, \"rt\"):\n",
      "\"não foi possível abrir o arquivo 'a.imessage.csv': No such file or directory\""
     ]
    },
    {
     "ename": "ERROR",
     "evalue": "Error in file(file, \"rt\"): não é possível abrir a conexão\n",
     "output_type": "error",
     "traceback": [
      "Error in file(file, \"rt\"): não é possível abrir a conexão\nTraceback:\n",
      "1. read.table(\"a.imessage.csv\", header = TRUE, quote = \"\\\"\", sep = \",\")",
      "2. file(file, \"rt\")"
     ]
    }
   ],
   "source": [
    "knitr::knit(text ='```{r}\n",
    "load(url(\"https://github.com/flavio-carvalho/SentimentHourFP/blob/master/regras_padroes_frequentes.RData?raw=true\"))\n",
    "```')\n",
    "\n",
    "\n",
    "b1 = read.table(\"a.imessage.csv\", header = TRUE, quote=\"\\\"\",sep = \",\")\n",
    "b1.novo<-cbind.data.frame(as.Date(b1$date),as.numeric(b1$sentiment.comparative),as.numeric(b1$sentiment.negative_count),as.numeric(b1$sentiment.positive_count), as.numeric\n",
    "\n",
    "(b1$sentiment.score), as.numeric(substr(b1$time,start=1,stop=2)))\n",
    "\n",
    "colnames(b1.novo)<-c(\"date\",\"sentiment.comparative\",\"sentiment.negative_count\",\"sentiment.positive_count\",\"sentiment.score\",\"hour\")\n",
    "\n",
    "\n",
    "b2 = read.table(\"b.imessage.csv\", header = TRUE, quote=\"\\\"\",sep = \",\")\n",
    "b2.novo<-cbind.data.frame(as.Date(b2$date),as.numeric(b2$sentiment.comparative),as.numeric(b2$sentiment.negative_count),as.numeric(b2$sentiment.positive_count), as.numeric\n",
    "\n",
    "(b2$sentiment.score), as.numeric(substr(b2$time,start=1,stop=2)))\n",
    "\n",
    "colnames(b2.novo)<-c(\"date\",\"sentiment.comparative\",\"sentiment.negative_count\",\"sentiment.positive_count\",\"sentiment.score\",\"hour\")\n",
    "\n",
    "\n",
    "b3 = read.table(\"a.dayone.csv\", header = TRUE, quote=\"\\\"\",sep = \",\")\n",
    "b3.novo<-cbind.data.frame(as.Date(b3$date),as.numeric(b3$sentiment.comparative),as.numeric(b3$sentiment.negative_count),as.numeric(b3$sentiment.positive_count), as.numeric\n",
    "\n",
    "(b3$sentiment.score), as.numeric(substr(b3$time,start=1,stop=2)))\n",
    "\n",
    "colnames(b3.novo)<-c(\"date\",\"sentiment.comparative\",\"sentiment.negative_count\",\"sentiment.positive_count\",\"sentiment.score\",\"hour\")\n",
    "\n",
    "rm(b1)\n",
    "rm(b2)\n",
    "rm(b3)\n"
   ]
  },
  {
   "cell_type": "markdown",
   "metadata": {},
   "source": [
    "# Junção das tabelas"
   ]
  },
  {
   "cell_type": "code",
   "execution_count": null,
   "metadata": {
    "collapsed": true
   },
   "outputs": [],
   "source": [
    "dados <-rbind(b1.novo,b2.novo,b3.novo)"
   ]
  },
  {
   "cell_type": "markdown",
   "metadata": {},
   "source": [
    "# Binning de 7 faixas de horários"
   ]
  },
  {
   "cell_type": "code",
   "execution_count": null,
   "metadata": {
    "collapsed": true
   },
   "outputs": [],
   "source": [
    "for(i in 1:nrow(dados)){\n",
    "\t\t if ((dados$hour[i]  >= 05) & (dados$hour[i] < 9)) {\n",
    "\t\tdados$hour[i] <-05\n",
    "} else if ((dados$hour[i]  >= 9) & (dados$hour[i] < 11)) {\n",
    "\t\tdados$hour[i] <-9 \n",
    "} else if ((dados$hour[i]  >= 11) & (dados$hour[i] < 13)) {\n",
    "\t\tdados$hour[i] <- 11 \n",
    "} else if ((dados$hour[i]  >= 13) & (dados$hour[i] < 17)) {\n",
    "\t\tdados$hour[i] <- 13 \n",
    "} else if ((dados$hour[i]  >= 17) & (dados$hour[i] < 20)) {\n",
    "\t\tdados$hour[i] <- 17 \n",
    "} else if ((dados$hour[i]  >= 20) & (dados$hour[i] < 23)) {\n",
    "\t\tdados$hour[i] <- 20 \n",
    "\n",
    "} else\n",
    "\t\tdados$hour[i] <- 00 \n",
    "\n",
    "}\n",
    "\n",
    "hist(dados$hour,main=\"Entradas por hora\",col = (3), las=1, xlim=c(0,20),ylim = c(0,25000),xlab = \"Tabela composta - 7 faixas\")\n",
    "\n",
    "for(i in 1:nrow(dados)){\n",
    "\t\t if ((dados$hour[i]  == 0)) {\n",
    "\t\tdados$hour[i] <-'Night'\n",
    "} else if ((dados$hour[i]  == 5)) {\n",
    "\t\tdados$hour[i] <-'Early morning' \n",
    "} else if ((dados$hour[i]  == 9)) {\n",
    "\t\tdados$hour[i] <-'Mid-morning' \n",
    "} else if ((dados$hour[i]  == 11)) {\n",
    "\t\tdados$hour[i] <- 'Late morning' \n",
    "} else if ((dados$hour[i]  == 13)) {\n",
    "\t\tdados$hour[i] <- 'Afternoon'\n",
    "} else if ((dados$hour[i]  == 17)) {\n",
    "\t\tdados$hour[i] <- 'Early evening' \n",
    "} else if ((dados$hour[i]  == 20)) {\n",
    "\t\tdados$hour[i] <- 'Late evening'  \n",
    "}\n",
    "}\n"
   ]
  },
  {
   "cell_type": "markdown",
   "metadata": {},
   "source": [
    "#Visualização dos valores nas tabelas"
   ]
  },
  {
   "cell_type": "code",
   "execution_count": null,
   "metadata": {
    "collapsed": true
   },
   "outputs": [],
   "source": [
    "\n",
    "summary(b1.novo$sentiment.positive_count)\n",
    "summary(b2.novo$sentiment.positive_count)\n",
    "summary(b3.novo$sentiment.positive_count)\n",
    "summary(b1.novo$sentiment.negative_count)\n",
    "summary(b2.novo$sentiment.negative_count)\n",
    "summary(b3.novo$sentiment.negative_count)\n",
    "\n",
    "summary(dados$sentiment.positive_count)\n",
    "summary(dados$sentiment.negative_count)"
   ]
  },
  {
   "cell_type": "markdown",
   "metadata": {},
   "source": [
    "# Binning para sentiment.positive_count, sentiment.negative_count e sentiment.score"
   ]
  },
  {
   "cell_type": "code",
   "execution_count": null,
   "metadata": {
    "collapsed": true
   },
   "outputs": [],
   "source": [
    "\n",
    "for(i in 1:nrow(dados)){\n",
    "\t\t if ((dados$sentiment.positive_count[i]  >= 3)) {\n",
    "\t\tdados$sentiment.positive_count[i] <-3 \n",
    "\n",
    "}\n",
    "}\n",
    "\n",
    "for(i in 1:nrow(dados)){\n",
    "\t\t if ((dados$sentiment.negative_count[i]  >= 3) ) {\n",
    "\t\tdados$sentiment.negative_count[i] <-3 \n",
    " \n",
    "}\n",
    "}\n",
    "\n",
    "\n",
    " for(i in 1:nrow(dados)){\n",
    "\t\t if ((dados$sentiment.score[i]  < -3) ) {\n",
    "\t\tdados$sentiment.score[i] <- 1\n",
    "} else if (dados$sentiment.score[i]  > 3){\n",
    "\t\tdados$sentiment.score[i] <- 5 \n",
    "} else if ((dados$sentiment.score[i]  >= -3) & (dados$sentiment.score[i]  < 0)) {\n",
    "\t\tdados$sentiment.score[i] <- 2 \n",
    "} else if ((dados$sentiment.score[i]  > 0) & (dados$sentiment.score[i] <= 3)) {\n",
    "\t\tdados$sentiment.score[i] <- 4 \n",
    "} else\n",
    "\t\tdados$sentiment.score[i] <- 3 \n",
    "\n",
    "}\n",
    "\n",
    "\n",
    "for(i in 1:nrow(dados)){\n",
    "\t\t if ((dados$sentiment.positive_count[i]  == 0) ) {\n",
    "\t\tdados$sentiment.positive_count[i] <- 'zero'\n",
    "} else if ((dados$sentiment.positive_count[i]  == 1)) {\n",
    "\t\tdados$sentiment.positive_count[i] <- 'low'\n",
    "} else if ((dados$sentiment.positive_count[i]  == 2) ) {\n",
    "\t\tdados$sentiment.positive_count[i] <- 'medium' \n",
    "} else\n",
    "\t\tdados$sentiment.positive_count[i] <- 'high'  \n",
    "\n",
    "}\n",
    "\n",
    "for(i in 1:nrow(dados)){\n",
    "\t\t if ((dados$sentiment.negative_count[i]  == 0) ) {\n",
    "\t\tdados$sentiment.negative_count[i] <- 'zero'\n",
    "} else if ((dados$sentiment.negative_count[i]  == 1)) {\n",
    "\t\tdados$sentiment.negative_count[i] <- 'low'\n",
    "} else if ((dados$sentiment.negative_count[i]  == 2) ) {\n",
    "\t\tdados$sentiment.negative_count[i] <- 'medium' \n",
    "} else\n",
    "\t\tdados$sentiment.negative_count[i] <- 'high'  \n",
    "\n",
    "}\n",
    "\n",
    "for(i in 1:nrow(dados)){\n",
    "\t\t if ((dados$sentiment.score[i]  == 1) ) {\n",
    "\t\tdados$sentiment.score[i] <- '1- low-neg'\n",
    "} else if ((dados$sentiment.score[i]  == 2)) {\n",
    "\t\tdados$sentiment.score[i] <- '2- neg'\n",
    "} else if ((dados$sentiment.score[i]  == 3) ) {\n",
    "\t\tdados$sentiment.score[i] <- '3- zero' \n",
    "} else if ((dados$sentiment.score[i]  == 4) ) {\n",
    "\t\tdados$sentiment.score[i] <- '4- pos' \n",
    "} else\n",
    "\t\tdados$sentiment.score[i] <- '5- high-pos'  \n",
    "\n",
    "}\n",
    "\n",
    "sentiment<-subset(dados, select= -sentiment.comparative)\n",
    "s2<-sentiment\n",
    "\n"
   ]
  },
  {
   "cell_type": "markdown",
   "metadata": {},
   "source": [
    "# Geração de .csv para facilitar consultas futuras"
   ]
  },
  {
   "cell_type": "code",
   "execution_count": null,
   "metadata": {
    "collapsed": true
   },
   "outputs": [],
   "source": [
    "# Geração de .csv para facilitar consultas futuras\n",
    "d2 <- dados\n",
    "write.csv(d2, file =\"d2.csv\")\n",
    "\n",
    "\n"
   ]
  },
  {
   "cell_type": "markdown",
   "metadata": {},
   "source": [
    "# Cria um objeto de transações a partir de um arquivo"
   ]
  },
  {
   "cell_type": "code",
   "execution_count": null,
   "metadata": {
    "collapsed": true
   },
   "outputs": [],
   "source": [
    "tr5<-read.transactions('d2.csv',format=\"basket\",sep=\",\")\n",
    "itemFrequencyPlot(tr5, support = 0.01)\n",
    "itemFrequencyPlot(tr5,support=.01, topN=20,type=\"absolute\",col='green',ylim=c(0,70000), xlab='Proporção dos atributos'\n",
    "#\n",
    "\n",
    "\n"
   ]
  },
  {
   "cell_type": "markdown",
   "metadata": {},
   "source": [
    "# Geração de regras com Apriori"
   ]
  },
  {
   "cell_type": "code",
   "execution_count": null,
   "metadata": {
    "collapsed": true
   },
   "outputs": [],
   "source": [
    "\n",
    "rules2 <- apriori(tr5, parameter= list(supp=0.01, conf=.5))\n",
    "rules2 <- sort(rules2, decreasing=TRUE,by=\"lift\")\n",
    "inspect(rules2)\n",
    "plot(rules2,control=list(lift),shading=lift)"
   ]
  }
 ],
 "metadata": {
  "kernelspec": {
   "display_name": "R",
   "language": "R",
   "name": "ir"
  },
  "language_info": {
   "codemirror_mode": "r",
   "file_extension": ".r",
   "mimetype": "text/x-r-source",
   "name": "R",
   "pygments_lexer": "r",
   "version": "3.4.1"
  }
 },
 "nbformat": 4,
 "nbformat_minor": 2
}
